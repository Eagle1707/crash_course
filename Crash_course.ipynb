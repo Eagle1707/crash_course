{
 "cells": [
  {
   "cell_type": "markdown",
   "metadata": {
    "collapsed": false
   },
   "source": [
    "# Python Crash Course"
   ]
  },
  {
   "cell_type": "markdown",
   "metadata": {},
   "source": [
    "Let's get on with the projects. We will be doing 3 projects. Two of them will be pretty basic. The third one will teach you how to run your own usable server in Python :) \n",
    "\n",
    "First thing first! Please follow these rules of programming:\n",
    "\n",
    "- Always take help of Google and Stackoverflow when you are in doubt. There is nothing to be embassed off.\n",
    "- Don't reinvent the wheel (write the same code which has been written by others and open sourced) unless you really need to\n",
    "- Follow the best coding practices (indentation and code-formatting)\n",
    "\n",
    "### Projects\n",
    "- Game of Chance\n",
    "- Get 'em those files\n",
    "- You like comics 'eh? \n",
    "\n",
    "\n",
    "## 1. Game of Chance\n",
    "We will be making a simple program in which the computer chooses a number and you have to guess it. You will receive useful hints along the way. In order to make it easier, only the numbers from 1-10 (inclusive) will be used."
   ]
  },
  {
   "cell_type": "code",
   "execution_count": null,
   "metadata": {
    "collapsed": false
   },
   "outputs": [],
   "source": [
    "from random import randint\n",
    "\n",
    "intro = \"\"\"Hi there!\\n\\nThis is a simple game of guessing. You will have three tries \n",
    "to guess the number which the computer has chosen. The game will run indefinitely unless stopped.\n",
    "\n",
    "Best of luck!\"\"\"\n",
    "\n",
    "print(intro)\n",
    "\n",
    "while True:\n",
    "    comp_number = randint(0,10)\n",
    "    if comp_number > 5:\n",
    "        print(\"The number is greater than 5. Can you guess it? ;)\")\n",
    "    elif comp_number < 6:\n",
    "        print(\"The number is less than 6. Can you guess it? ;)\")\n",
    "    for i in range(3):\n",
    "        my_number = int(input(\"Your guess:  \"))\n",
    "        if my_number == comp_number:\n",
    "            print(\"You guessed it right! Please collect your jackpot :D\")\n",
    "            print(\"Let's move on to another number now.\\n\\n\\n\")\n",
    "        elif my_number < comp_number:\n",
    "            print(\"Your guess was a tad bit lower than expected :(\")\n",
    "        elif my_number > comp_number:\n",
    "            print(\"Your guess was a tad bit higher than expected :(\")\n",
    "        if i == 2:\n",
    "            print(\"Let's move on to another number now.\\n\\n\\n\")"
   ]
  },
  {
   "cell_type": "markdown",
   "metadata": {},
   "source": [
    "## 2. Get 'em Those Files\n",
    "\n",
    "In this project we will make a simple downloader which will download certain image files from a website. We will input the `id` of the file which we want to download and it will fetch that file for us. We will be making use of the following libraries:\n",
    "\n",
    "- requests (for making http requests)\n",
    "- re (regular expressions library)\n",
    "\n",
    "__Requests__ will allow us to open the webpage from our code. \n",
    "\n",
    "__re__ It is short for _regular expressions_. It will allow us to search the content of the webpage and find a specific string. There is a lot it can do but we will be using it mostly for searching a chunk of text from a much bigger string. Almost all languages contain a regular expressions library now-a-days. In many other languages it is called _regex_.\n",
    "\n",
    "Let's get the ball rolling!"
   ]
  },
  {
   "cell_type": "code",
   "execution_count": 7,
   "metadata": {
    "collapsed": false
   },
   "outputs": [],
   "source": [
    "import requests\n",
    "import re\n",
    "    \n",
    "def save_file(local_file_name, file_data):\n",
    "    local_file = open(local_file_name+\".png\", \"wb\")\n",
    "    local_file.write(file_data)\n",
    "    local_file.close()\n",
    "    \n",
    "which_file = input(\"Write down the id of the file which you want to download :) May I suggest 354?\\n\\nID:  \")\n",
    "\n",
    "url =  \"https://xkcd.com/{}/\".format(which_file)\n",
    "\n",
    "html = requests.get(url)\n",
    "search_obj = re.search(\"http://(.+?)/comics/(.+?).png\",html.text)\n",
    "\n",
    "pic_url = search_obj.group()\n",
    "file_name = search_obj.group(2)\n",
    "\n",
    "print(file_name)\n",
    "\n",
    "remote_file = requests.get(pic_url).content\n",
    "save_file(file_name, remote_file)\n",
    "\n",
    "print(\"Your file has been downloaded :)\")"
   ]
  },
  {
   "cell_type": "markdown",
   "metadata": {
    "collapsed": true
   },
   "source": [
    "## 3.You Like Comics 'eh? \n",
    "\n",
    "In this project we will make a simple server which will return random comics when the user opens it in their browser. We will be taking comics from XKCD which is run by a programmer. His comics are __very__ popular among the programmers. We will be making use of the following libraries:\n",
    "\n",
    "- Flask\n",
    "- re\n",
    "- requests\n",
    "- random\n",
    "\n",
    "__Flask__ is the only new library over here. It is a micro-framework which allows us to get going very quickly. It is very bare-bones as compared to other web frameworks but it is very stable and easy to use.\n"
   ]
  },
  {
   "cell_type": "code",
   "execution_count": null,
   "metadata": {
    "collapsed": true
   },
   "outputs": [],
   "source": [
    "from flask import Flask, send_file\n",
    "import re\n",
    "import requests\n",
    "from random import randint\n",
    "\n",
    "app = Flask(__name__)\n",
    "\n",
    "def download_file(url):\n",
    "    html = requests.get(url)\n",
    "\n",
    "    search_obj = re.search('http://(.+?)/comics/(.+?)\\n',html.text)\n",
    "    pic_url = search_obj.group().strip()\n",
    "    file_name = search_obj.group(2)\n",
    "\n",
    "    remote_file = requests.get(pic_url).content\n",
    "\n",
    "    save_file(file_name, remote_file)\n",
    "    return file_name\n",
    "\n",
    "def save_file(local_file_name, file_data):\n",
    "    local_file = open(local_file_name, \"wb\")\n",
    "    local_file.write(file_data)\n",
    "    local_file.close()\n",
    "\n",
    "@app.route(\"/\")\n",
    "def hello():\n",
    "    url_template = \"https://xkcd.com/{}/\".format(randint(1,380))\n",
    "    file_name = download_file(url_template)\n",
    "    file_ext = file_name.split('.')[-1]\n",
    "    return send_file(file_name, mimetype='image/{}'.format(file_ext))\n",
    "\n",
    "if __name__ == \"__main__\":\n",
    "    app.run()"
   ]
  }
 ],
 "metadata": {
  "kernelspec": {
   "display_name": "Python 2",
   "language": "python",
   "name": "python2"
  },
  "language_info": {
   "codemirror_mode": {
    "name": "ipython",
    "version": 2
   },
   "file_extension": ".py",
   "mimetype": "text/x-python",
   "name": "python",
   "nbconvert_exporter": "python",
   "pygments_lexer": "ipython2",
   "version": "2.7.9"
  }
 },
 "nbformat": 4,
 "nbformat_minor": 0
}
